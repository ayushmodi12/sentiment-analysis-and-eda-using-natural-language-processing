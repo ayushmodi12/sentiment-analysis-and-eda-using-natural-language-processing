{
 "cells": [
  {
   "cell_type": "code",
   "execution_count": 69,
   "metadata": {},
   "outputs": [],
   "source": [
    "import os\n",
    "import pandas as pd\n",
    "directory_path = 'comments/'\n",
    "data_frames={}\n",
    "for filename in os.listdir(directory_path):\n",
    "    if os.path.isfile(os.path.join(directory_path, filename)):\n",
    "        data_frames[filename]=(pd.read_csv(os.path.join(directory_path, filename)))\n"
   ]
  },
  {
   "cell_type": "code",
   "execution_count": 70,
   "metadata": {},
   "outputs": [
    {
     "name": "stderr",
     "output_type": "stream",
     "text": [
      "Some weights of the model checkpoint at cardiffnlp/twitter-roberta-base-sentiment-latest were not used when initializing RobertaForSequenceClassification: ['roberta.pooler.dense.weight', 'roberta.pooler.dense.bias']\n",
      "- This IS expected if you are initializing RobertaForSequenceClassification from the checkpoint of a model trained on another task or with another architecture (e.g. initializing a BertForSequenceClassification model from a BertForPreTraining model).\n",
      "- This IS NOT expected if you are initializing RobertaForSequenceClassification from the checkpoint of a model that you expect to be exactly identical (initializing a BertForSequenceClassification model from a BertForSequenceClassification model).\n"
     ]
    }
   ],
   "source": [
    "# Use a pipeline as a high-level helper\n",
    "from transformers import pipeline\n",
    "\n",
    "pipe = pipeline(\"text-classification\", model=\"cardiffnlp/twitter-roberta-base-sentiment-latest\",truncation=True,max_length=512)\n",
    "pipe2 = pipeline(\"text-classification\", model=\"finiteautomata/bertweet-base-sentiment-analysis\",truncation=True,max_length=128)\n",
    "pipe3 = pipeline(\"text-classification\", model=\"Seethal/sentiment_analysis_generic_dataset\",truncation=True,max_length=512)"
   ]
  },
  {
   "cell_type": "code",
   "execution_count": 71,
   "metadata": {},
   "outputs": [],
   "source": [
    "def convert_model2(x):\n",
    "    if x=='POS':\n",
    "        return 'positive'\n",
    "    elif x=='NEG':\n",
    "        return 'negative'\n",
    "    else:\n",
    "        return 'neutral'\n",
    "def convert_model3(x):\n",
    "    if x=='LABEL_0':\n",
    "        return 'negative'\n",
    "    elif x=='LABEL_1':\n",
    "        return 'neutral'\n",
    "    else:\n",
    "        return 'positive'"
   ]
  },
  {
   "cell_type": "code",
   "execution_count": 72,
   "metadata": {},
   "outputs": [
    {
     "name": "stderr",
     "output_type": "stream",
     "text": [
      "100%|██████████| 100/100 [33:06<00:00, 19.86s/it]\n"
     ]
    }
   ],
   "source": [
    "from tqdm import tqdm\n",
    "for i in tqdm(data_frames.keys()):\n",
    "    predictions_model1=pipe(list(data_frames[i][\"Comment Text\"]))\n",
    "    predictions_model2=pipe2(list(data_frames[i][\"Comment Text\"]))\n",
    "    predictions_model3=pipe3(list(data_frames[i][\"Comment Text\"]))\n",
    "    model1=[]\n",
    "    model2=[]\n",
    "    model3=[]\n",
    "    for j in range(len(predictions_model1)):\n",
    "        model1.append(predictions_model1[j]['label'])\n",
    "        model2.append(convert_model2(predictions_model2[j]['label']))\n",
    "        model3.append(convert_model3(predictions_model3[j]['label']))\n",
    "    data_frames[i]['model1']=model1\n",
    "    data_frames[i]['model2']=model2\n",
    "    data_frames[i]['model3']=model3"
   ]
  },
  {
   "cell_type": "code",
   "execution_count": 75,
   "metadata": {},
   "outputs": [],
   "source": [
    "for i in data_frames.keys():\n",
    "    majority_labels=[]\n",
    "    for j in range(len(data_frames[i])):\n",
    "        labels=[data_frames[i]['model1'][j],data_frames[i]['model2'][j],data_frames[i]['model3'][j]]\n",
    "        majority_labels.append(max(set(labels), key = labels.count))\n",
    "    data_frames[i]['majority_labels']=majority_labels"
   ]
  },
  {
   "cell_type": "code",
   "execution_count": 76,
   "metadata": {},
   "outputs": [],
   "source": [
    "for i in data_frames.keys():\n",
    "    data_frames[i].to_csv('majority/'+i,index=False)"
   ]
  }
 ],
 "metadata": {
  "kernelspec": {
   "display_name": "Python 3",
   "language": "python",
   "name": "python3"
  },
  "language_info": {
   "codemirror_mode": {
    "name": "ipython",
    "version": 3
   },
   "file_extension": ".py",
   "mimetype": "text/x-python",
   "name": "python",
   "nbconvert_exporter": "python",
   "pygments_lexer": "ipython3",
   "version": "3.8.10"
  },
  "orig_nbformat": 4
 },
 "nbformat": 4,
 "nbformat_minor": 2
}
